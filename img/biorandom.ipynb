{
 "cells": [
  {
   "cell_type": "markdown",
   "id": "cbf3504a",
   "metadata": {},
   "source": [
    "## Биослучайные числа\n",
    "\n",
    "В данном примере кода мы показываем, как запросить биослучайные числа, сгенерированные бактериями в рамках экспоната выставки \"[Человек и нейросеть: кто кого создаёт]\", проходящей в период 23 апреля - 25 мая 2025 г.\n",
    "\n",
    "> За рамками данного временного промежутка API для генерации биослучайных числе будет недоступно.\n",
    "\n",
    "Для начала, импортируем библиотеки:"
   ]
  },
  {
   "cell_type": "code",
   "execution_count": null,
   "id": "e6690f96",
   "metadata": {},
   "outputs": [],
   "source": [
    "import json\n",
    "import requests\n",
    "\n",
    "base_url = \"https://art.ycloud.eazify.net:8443/biorandom\""
   ]
  },
  {
   "cell_type": "markdown",
   "id": "7889cfb9",
   "metadata": {},
   "source": [
    "## Получаем последнее биослучайное число\n",
    "\n",
    "Биослучайные числа (в диапазоне 0-255) генерируются бактериями периодически, примерно за 8-10 секунд. Это время, необходимое для сбора всех 8 бит такого числа на основе 8 последовательных измерений. В ответ на запрос мы получаем число и дату его обновления:"
   ]
  },
  {
   "cell_type": "code",
   "execution_count": 2,
   "id": "8b25a0d4",
   "metadata": {},
   "outputs": [
    {
     "data": {
      "text/plain": [
       "{'num': 34, 'timestamp': '2025-04-25 16:06:21'}"
      ]
     },
     "execution_count": 2,
     "metadata": {},
     "output_type": "execute_result"
    }
   ],
   "source": [
    "def get_latest():\n",
    "    res = requests.get(f\"{base_url}/get/latest\").json()\n",
    "    return res\n",
    "\n",
    "get_latest()"
   ]
  },
  {
   "cell_type": "markdown",
   "id": "bf9385a4",
   "metadata": {},
   "source": [
    "## Получаем последние несколько чисел\n",
    "\n",
    "В рамках API вы также можете получить доступ к нескольким последним числам, до 100 штук. Для этого передаёт требуемое количество чисел:"
   ]
  },
  {
   "cell_type": "code",
   "execution_count": 4,
   "id": "20a9e054",
   "metadata": {},
   "outputs": [
    {
     "data": {
      "text/plain": [
       "[{'num': 33, 'timestamp': '2025-04-25 16:08:25'},\n",
       " {'num': 18, 'timestamp': '2025-04-25 16:08:18'},\n",
       " {'num': 160, 'timestamp': '2025-04-25 16:08:09'},\n",
       " {'num': 176, 'timestamp': '2025-04-25 16:08:01'},\n",
       " {'num': 176, 'timestamp': '2025-04-25 16:07:53'},\n",
       " {'num': 8, 'timestamp': '2025-04-25 16:07:45'},\n",
       " {'num': 149, 'timestamp': '2025-04-25 16:07:38'},\n",
       " {'num': 132, 'timestamp': '2025-04-25 16:07:28'},\n",
       " {'num': 50, 'timestamp': '2025-04-25 16:07:19'},\n",
       " {'num': 16, 'timestamp': '2025-04-25 16:07:12'},\n",
       " {'num': 12, 'timestamp': '2025-04-25 16:07:04'},\n",
       " {'num': 80, 'timestamp': '2025-04-25 16:06:55'},\n",
       " {'num': 184, 'timestamp': '2025-04-25 16:06:47'},\n",
       " {'num': 8, 'timestamp': '2025-04-25 16:06:39'},\n",
       " {'num': 40, 'timestamp': '2025-04-25 16:06:31'},\n",
       " {'num': 34, 'timestamp': '2025-04-25 16:06:21'},\n",
       " {'num': 149, 'timestamp': '2025-04-25 16:06:14'},\n",
       " {'num': 10, 'timestamp': '2025-04-25 16:06:06'},\n",
       " {'num': 72, 'timestamp': '2025-04-25 16:05:57'},\n",
       " {'num': 18, 'timestamp': '2025-04-25 16:05:49'},\n",
       " {'num': 89, 'timestamp': '2025-04-25 16:05:41'},\n",
       " {'num': 20, 'timestamp': '2025-04-25 16:05:33'},\n",
       " {'num': 5, 'timestamp': '2025-04-25 16:05:26'},\n",
       " {'num': 36, 'timestamp': '2025-04-25 16:05:15'},\n",
       " {'num': 33, 'timestamp': '2025-04-25 16:05:07'},\n",
       " {'num': 4, 'timestamp': '2025-04-25 16:04:59'},\n",
       " {'num': 16, 'timestamp': '2025-04-25 16:04:51'},\n",
       " {'num': 145, 'timestamp': '2025-04-25 16:04:43'},\n",
       " {'num': 1, 'timestamp': '2025-04-25 16:04:35'},\n",
       " {'num': 85, 'timestamp': '2025-04-25 16:04:27'},\n",
       " {'num': 148, 'timestamp': '2025-04-25 16:04:17'},\n",
       " {'num': 136, 'timestamp': '2025-04-25 16:04:09'},\n",
       " {'num': 149, 'timestamp': '2025-04-25 16:04:01'},\n",
       " {'num': 162, 'timestamp': '2025-04-25 16:03:53'},\n",
       " {'num': 0, 'timestamp': '2025-04-25 16:03:45'},\n",
       " {'num': 1, 'timestamp': '2025-04-25 16:03:38'},\n",
       " {'num': 140, 'timestamp': '2025-04-25 16:03:29'},\n",
       " {'num': 140, 'timestamp': '2025-04-25 16:03:21'},\n",
       " {'num': 34, 'timestamp': '2025-04-25 16:03:11'},\n",
       " {'num': 128, 'timestamp': '2025-04-25 16:03:03'},\n",
       " {'num': 168, 'timestamp': '2025-04-25 16:02:56'},\n",
       " {'num': 16, 'timestamp': '2025-04-25 16:02:47'},\n",
       " {'num': 129, 'timestamp': '2025-04-25 16:02:40'},\n",
       " {'num': 4, 'timestamp': '2025-04-25 16:02:31'},\n",
       " {'num': 68, 'timestamp': '2025-04-25 16:02:23'},\n",
       " {'num': 84, 'timestamp': '2025-04-25 16:02:13'},\n",
       " {'num': 106, 'timestamp': '2025-04-25 16:02:06'},\n",
       " {'num': 32, 'timestamp': '2025-04-25 16:01:58'},\n",
       " {'num': 9, 'timestamp': '2025-04-25 16:01:50'},\n",
       " {'num': 137, 'timestamp': '2025-04-25 16:01:41'},\n",
       " {'num': 48, 'timestamp': '2025-04-25 16:01:33'},\n",
       " {'num': 5, 'timestamp': '2025-04-25 16:01:25'},\n",
       " {'num': 45, 'timestamp': '2025-04-25 16:01:17'},\n",
       " {'num': 34, 'timestamp': '2025-04-25 16:01:07'},\n",
       " {'num': 145, 'timestamp': '2025-04-25 16:00:59'},\n",
       " {'num': 144, 'timestamp': '2025-04-25 16:00:51'},\n",
       " {'num': 9, 'timestamp': '2025-04-25 16:00:43'},\n",
       " {'num': 165, 'timestamp': '2025-04-25 16:00:36'},\n",
       " {'num': 18, 'timestamp': '2025-04-25 16:00:28'},\n",
       " {'num': 164, 'timestamp': '2025-04-25 16:00:20'},\n",
       " {'num': 145, 'timestamp': '2025-04-25 16:00:12'},\n",
       " {'num': 16, 'timestamp': '2025-04-25 16:00:02'},\n",
       " {'num': 141, 'timestamp': '2025-04-25 15:59:54'},\n",
       " {'num': 68, 'timestamp': '2025-04-25 15:59:45'},\n",
       " {'num': 164, 'timestamp': '2025-04-25 15:59:37'},\n",
       " {'num': 16, 'timestamp': '2025-04-25 15:59:29'},\n",
       " {'num': 177, 'timestamp': '2025-04-25 15:59:21'},\n",
       " {'num': 40, 'timestamp': '2025-04-25 15:59:13'},\n",
       " {'num': 146, 'timestamp': '2025-04-25 15:59:03'},\n",
       " {'num': 132, 'timestamp': '2025-04-25 15:58:55'},\n",
       " {'num': 40, 'timestamp': '2025-04-25 15:58:47'},\n",
       " {'num': 197, 'timestamp': '2025-04-25 15:58:39'},\n",
       " {'num': 49, 'timestamp': '2025-04-25 15:58:31'},\n",
       " {'num': 66, 'timestamp': '2025-04-25 15:58:23'},\n",
       " {'num': 17, 'timestamp': '2025-04-25 15:58:15'},\n",
       " {'num': 42, 'timestamp': '2025-04-25 15:58:07'},\n",
       " {'num': 133, 'timestamp': '2025-04-25 15:57:58'},\n",
       " {'num': 81, 'timestamp': '2025-04-25 15:57:49'},\n",
       " {'num': 4, 'timestamp': '2025-04-25 15:57:41'},\n",
       " {'num': 169, 'timestamp': '2025-04-25 15:57:33'},\n",
       " {'num': 1, 'timestamp': '2025-04-25 15:57:25'},\n",
       " {'num': 67, 'timestamp': '2025-04-25 15:57:17'},\n",
       " {'num': 33, 'timestamp': '2025-04-25 15:57:09'},\n",
       " {'num': 5, 'timestamp': '2025-04-25 15:57:02'},\n",
       " {'num': 98, 'timestamp': '2025-04-25 15:56:51'},\n",
       " {'num': 32, 'timestamp': '2025-04-25 15:56:43'},\n",
       " {'num': 138, 'timestamp': '2025-04-25 15:56:36'},\n",
       " {'num': 34, 'timestamp': '2025-04-25 15:56:28'},\n",
       " {'num': 74, 'timestamp': '2025-04-25 15:56:19'},\n",
       " {'num': 138, 'timestamp': '2025-04-25 15:56:12'},\n",
       " {'num': 36, 'timestamp': '2025-04-25 15:56:04'},\n",
       " {'num': 32, 'timestamp': '2025-04-25 15:55:53'},\n",
       " {'num': 84, 'timestamp': '2025-04-25 15:55:46'},\n",
       " {'num': 72, 'timestamp': '2025-04-25 15:55:37'},\n",
       " {'num': 169, 'timestamp': '2025-04-25 15:55:30'},\n",
       " {'num': 84, 'timestamp': '2025-04-25 15:55:21'},\n",
       " {'num': 5, 'timestamp': '2025-04-25 15:55:14'},\n",
       " {'num': 162, 'timestamp': '2025-04-25 15:55:06'},\n",
       " {'num': 144, 'timestamp': '2025-04-25 15:54:58'},\n",
       " {'num': 66, 'timestamp': '2025-04-25 15:54:47'},\n",
       " {'num': 49, 'timestamp': '2025-04-25 15:54:40'}]"
      ]
     },
     "execution_count": 4,
     "metadata": {},
     "output_type": "execute_result"
    }
   ],
   "source": [
    "def get(n=100):\n",
    "    res = requests.get(f\"{base_url}/get/{int(n)}\").json()\n",
    "    return res\n",
    "\n",
    "res = get()\n",
    "\n",
    "res"
   ]
  },
  {
   "cell_type": "markdown",
   "id": "c3d981df",
   "metadata": {},
   "source": [
    "Посмотрим на гистограмму распределения таких чисел:"
   ]
  },
  {
   "cell_type": "code",
   "execution_count": 6,
   "id": "9af303dc",
   "metadata": {},
   "outputs": [
    {
     "data": {
      "image/png": "[encoded data removed]",
      "text/plain": [
       "<Figure size 640x480 with 1 Axes>"
      ]
     },
     "metadata": {},
     "output_type": "display_data"
    }
   ],
   "source": [
    "import matplotlib.pyplot as plt\n",
    "\n",
    "ns = [ x['num'] for x in res ]\n",
    "plt.hist(ns,bins=10)\n",
    "plt.show()"
   ]
  },
  {
   "cell_type": "markdown",
   "id": "47f8b291",
   "metadata": {},
   "source": [
    "Для сравнения, посмотрим на гистограмму псевдослучайных чисел:"
   ]
  },
  {
   "cell_type": "code",
   "execution_count": 8,
   "id": "c2395751",
   "metadata": {},
   "outputs": [
    {
     "data": {
      "image/png": "[encoded data removed]",
      "text/plain": [
       "<Figure size 640x480 with 1 Axes>"
      ]
     },
     "metadata": {},
     "output_type": "display_data"
    }
   ],
   "source": [
    "import random\n",
    "plt.hist([random.randint(0,255) for x in range(100)],bins=10)\n",
    "plt.show()"
   ]
  },
  {
   "cell_type": "markdown",
   "id": "cb64be12",
   "metadata": {},
   "source": []
  }
 ],
 "metadata": {
  "kernelspec": {
   "display_name": "fresh",
   "language": "python",
   "name": "python3"
  },
  "language_info": {
   "codemirror_mode": {
    "name": "ipython",
    "version": 3
   },
   "file_extension": ".py",
   "mimetype": "text/x-python",
   "name": "python",
   "nbconvert_exporter": "python",
   "pygments_lexer": "ipython3",
   "version": "3.10.13"
  }
 },
 "nbformat": 4,
 "nbformat_minor": 5
}
